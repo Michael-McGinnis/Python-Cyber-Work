{
 "cells": [
  {
   "cell_type": "markdown",
   "id": "15356852-9879-4f4a-9d13-1c22bcb00782",
   "metadata": {},
   "source": [
    "## Zip File Brute Force"
   ]
  },
  {
   "cell_type": "code",
   "execution_count": 3,
   "id": "3be451d3-28cd-4b75-a626-edd8c9a9197d",
   "metadata": {},
   "outputs": [
    {
     "name": "stdout",
     "output_type": "stream",
     "text": [
      "Wrong Password\n",
      "Wrong Password\n",
      "Wrong Password\n",
      "Wrong Password\n",
      "Wrong Password\n"
     ]
    }
   ],
   "source": [
    "import zipfile\n",
    "\n",
    "def extract_file(zfile, password):\n",
    "    try:\n",
    "        zfile.extractall(pwd = bytes(password, 'utf-8'))\n",
    "        return password\n",
    "    except:\n",
    "        print('Wrong Password')\n",
    "        return\n",
    "\n",
    "def main_func():\n",
    "    zfile = zipfile.ZipFile('test.zip')\n",
    "    pass_file = open('passlist.txt')\n",
    "    for line in pass_file.readlines():\n",
    "        password = line.strip('\\n')\n",
    "        guess = extract_file(zfile, password)\n",
    "        if guess:\n",
    "            print('Password = ' + password)\n",
    "            break\n",
    "main_func()"
   ]
  },
  {
   "cell_type": "code",
   "execution_count": null,
   "id": "223d8dd5-2b8a-45ef-af39-0b6886cae03a",
   "metadata": {},
   "outputs": [],
   "source": []
  },
  {
   "cell_type": "code",
   "execution_count": null,
   "id": "2fde7515-13b5-43b6-9f4f-da6ce59dbdbc",
   "metadata": {},
   "outputs": [],
   "source": []
  }
 ],
 "metadata": {
  "kernelspec": {
   "display_name": "Python 3 (ipykernel)",
   "language": "python",
   "name": "python3"
  },
  "language_info": {
   "codemirror_mode": {
    "name": "ipython",
    "version": 3
   },
   "file_extension": ".py",
   "mimetype": "text/x-python",
   "name": "python",
   "nbconvert_exporter": "python",
   "pygments_lexer": "ipython3",
   "version": "3.9.13"
  }
 },
 "nbformat": 4,
 "nbformat_minor": 5
}
