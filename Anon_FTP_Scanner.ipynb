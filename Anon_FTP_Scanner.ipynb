{
 "cells": [
  {
   "cell_type": "markdown",
   "id": "cac8310f-f044-4b4f-993a-36ade12db3e5",
   "metadata": {},
   "source": [
    "## Anonymous FTP Scanner"
   ]
  },
  {
   "cell_type": "code",
   "execution_count": 5,
   "id": "094c8707-efbe-43e2-a111-9b73a67c4350",
   "metadata": {},
   "outputs": [
    {
     "name": "stdout",
     "output_type": "stream",
     "text": [
      "\n",
      "http://speedtest.tele2.net FTP Anonymous Login Failed\n"
     ]
    }
   ],
   "source": [
    "#Scan websites for misconfigured settings to allow\n",
    "#anonymouse connections\n",
    "\n",
    "import ftplib\n",
    "\n",
    "\n",
    "def anonymous_login(hostname):\n",
    "    try:\n",
    "        ftp = ftplib.FTP(hostname)\n",
    "        ftp.login(\"anonymous\")\n",
    "        print('\\n' + str(hostname) + ' FTP Anonymous Login Success')\n",
    "        ftp.quit()\n",
    "        return True\n",
    "    except Exception:\n",
    "        print('\\n' + str(hostname) + ' FTP Anonymous Login Failed')\n",
    "        # return False\n",
    "    \n",
    "anonymous_login('http://speedtest.tele2.net')"
   ]
  },
  {
   "cell_type": "code",
   "execution_count": null,
   "id": "18f4a554-66ce-4e1c-8176-8eb944ea5a6f",
   "metadata": {},
   "outputs": [],
   "source": []
  },
  {
   "cell_type": "code",
   "execution_count": null,
   "id": "efa788b2-6faa-46a7-abdb-a9c2e0a60681",
   "metadata": {},
   "outputs": [],
   "source": []
  }
 ],
 "metadata": {
  "kernelspec": {
   "display_name": "Python 3 (ipykernel)",
   "language": "python",
   "name": "python3"
  },
  "language_info": {
   "codemirror_mode": {
    "name": "ipython",
    "version": 3
   },
   "file_extension": ".py",
   "mimetype": "text/x-python",
   "name": "python",
   "nbconvert_exporter": "python",
   "pygments_lexer": "ipython3",
   "version": "3.9.13"
  }
 },
 "nbformat": 4,
 "nbformat_minor": 5
}
