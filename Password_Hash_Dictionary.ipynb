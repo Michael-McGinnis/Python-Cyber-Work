{
 "cells": [
  {
   "cell_type": "code",
   "execution_count": 7,
   "id": "22ad9021-6523-49dc-b314-163174f19713",
   "metadata": {},
   "outputs": [
    {
     "name": "stdout",
     "output_type": "stream",
     "text": [
      "Password Founnd: pass\n"
     ]
    }
   ],
   "source": [
    "import hashlib\n",
    "\n",
    "def crack_hash(input_password):\n",
    "    try:\n",
    "        password_file = open('word_list.txt', 'r')\n",
    "    except:\n",
    "        print(\"Error: Could not find file.\")\n",
    "    \n",
    "    for password in password_file:\n",
    "        encryption_pass = password.encode(\"utf-8\")\n",
    "        digest = hashlib.md5(encryption_pass.strip()).hexdigest()\n",
    "        if digest == input_password:\n",
    "            print('Password Founnd: ' + password)\n",
    "              \n",
    "crack_hash(\"1a1dc91c907325c69271ddf0c944bc72\")            "
   ]
  },
  {
   "cell_type": "code",
   "execution_count": null,
   "id": "4e650693-6b04-4305-b7fc-cebf44b94806",
   "metadata": {},
   "outputs": [],
   "source": []
  }
 ],
 "metadata": {
  "kernelspec": {
   "display_name": "Python 3 (ipykernel)",
   "language": "python",
   "name": "python3"
  },
  "language_info": {
   "codemirror_mode": {
    "name": "ipython",
    "version": 3
   },
   "file_extension": ".py",
   "mimetype": "text/x-python",
   "name": "python",
   "nbconvert_exporter": "python",
   "pygments_lexer": "ipython3",
   "version": "3.9.13"
  }
 },
 "nbformat": 4,
 "nbformat_minor": 5
}
