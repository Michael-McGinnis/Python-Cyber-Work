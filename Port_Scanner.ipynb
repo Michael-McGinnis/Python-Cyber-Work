{
 "cells": [
  {
   "cell_type": "markdown",
   "id": "1f8ed8ba-c86a-448b-877c-01d0708b88da",
   "metadata": {},
   "source": [
    "## Port Scanner "
   ]
  },
  {
   "cell_type": "code",
   "execution_count": 2,
   "id": "48b41214-7883-411a-a0d0-eec3263e0ef7",
   "metadata": {},
   "outputs": [
    {
     "name": "stdout",
     "output_type": "stream",
     "text": [
      "\n",
      "[+] Scan Results of: 181.215.182.182\n",
      "Scanning Port: 80\n",
      "[-]80/tcp closed\n",
      "Scanning Port: 22\n",
      "[-]22/tcp closed\n",
      "Scanning Port: 8000\n",
      "[-]8000/tcp closed\n"
     ]
    }
   ],
   "source": [
    "#Import all from socket\n",
    "from socket import *\n",
    "\n",
    "#Method to make a connection\n",
    "def connection_scan(target_host, target_port):\n",
    "    try:\n",
    "        connection_socket = socket(AF_INET, SOCK_STREAM)\n",
    "        \n",
    "        #AF_INET is Internet address family for IPv4\n",
    "        #SOCK_STREAM uses TCP as default\n",
    "        \n",
    "        socket.connect((target_host, target_port))\n",
    "        print('[+]%d/tcp open'% target_port)\n",
    "        socket.close()\n",
    "    except:\n",
    "        print('[-]%d/tcp closed'% target_port)\n",
    "        \n",
    "def port_scan(target_host, target_ports):\n",
    "    try:\n",
    "        target_IP = gethostbyname(target_host)\n",
    "    except:\n",
    "        print('[-] Cannot Resolve %s'% target_host)\n",
    "        return\n",
    "    try:\n",
    "        target_name = gethostbyaddr(target_IP)\n",
    "        print('\\n[+] Scan Results of: %s'% target_name[0])\n",
    "    except:\n",
    "        print('\\n[+] Scan Results of: %s'% target_IP)\n",
    "        \n",
    "    setdefaulttimeout(1)\n",
    "    for targetport in target_ports:\n",
    "        print('Scanning Port: %d'% + targetport)\n",
    "        connection_scan(target_host, int(targetport))\n",
    "        \n",
    "\n",
    "# if __name__ == '__main__':\n",
    "port_scan('181.215.182.182', [80, 22, 8000])\n",
    "                        "
   ]
  },
  {
   "cell_type": "code",
   "execution_count": null,
   "id": "d7c81515-6872-4660-a295-25b5dae156a1",
   "metadata": {},
   "outputs": [],
   "source": []
  },
  {
   "cell_type": "code",
   "execution_count": null,
   "id": "5e3d362b-35e4-493d-8f68-795968ece1ae",
   "metadata": {},
   "outputs": [],
   "source": []
  }
 ],
 "metadata": {
  "kernelspec": {
   "display_name": "Python 3 (ipykernel)",
   "language": "python",
   "name": "python3"
  },
  "language_info": {
   "codemirror_mode": {
    "name": "ipython",
    "version": 3
   },
   "file_extension": ".py",
   "mimetype": "text/x-python",
   "name": "python",
   "nbconvert_exporter": "python",
   "pygments_lexer": "ipython3",
   "version": "3.9.13"
  }
 },
 "nbformat": 4,
 "nbformat_minor": 5
}
